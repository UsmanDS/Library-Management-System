{
 "cells": [
  {
   "cell_type": "code",
   "execution_count": 2,
   "metadata": {},
   "outputs": [],
   "source": [
    "library=[]\n",
    "\n",
    "\n",
    "\n",
    "def add_book():\n",
    "    title = input(\"Enter the title of the book: \")\n",
    "    author = input(\"Enter the author of the book: \")\n",
    "    edition=input(\"book_edition :\")\n",
    "    books = {\n",
    "     \"title\": title,\n",
    "     \"author\": author,\n",
    "     \"edition\": edition\n",
    "     }\n",
    "    print(\"books added\")\n",
    "    print(books)\n",
    "    library.append(books)\n",
    "    print(f\"book '{title}' added \\n\")"
   ]
  },
  {
   "cell_type": "code",
   "execution_count": 4,
   "metadata": {},
   "outputs": [],
   "source": [
    "\n",
    "def search_book():\n",
    "    search_title = input(\"Enter the title of the book to search: \")\n",
    "    \n",
    "    for book in library:\n",
    "        if book['title'].lower() == search_title.lower():\n",
    "            print(f\"Book found: Title: {book['title']}, Author: {book['author']}, ISBN: {book['isbn']}\\n\")\n",
    "            return search_book()\n",
    "    \n",
    "    print(\"Book not found.\\n\")"
   ]
  },
  {
   "cell_type": "code",
   "execution_count": 6,
   "metadata": {},
   "outputs": [],
   "source": [
    "def display_books():\n",
    "    if len(library) == 0:\n",
    "        print(\"No books in the library.\\n\")\n",
    "    else:\n",
    "        print(\"List of books in the library:\\n\")\n",
    "        for idx, book in enumerate(library, 1):\n",
    "            print(f\"{idx}. Title: {book['title']}, Author: {book['author']}, ISBN: {book['isbn']}\")\n",
    "        print()\n",
    "        \n",
    "        \n",
    "        return display_books()"
   ]
  },
  {
   "cell_type": "code",
   "execution_count": 7,
   "metadata": {},
   "outputs": [],
   "source": [
    "def exit_system():\n",
    "    print(\"Exiting the system... Goodbye!\")\n",
    "    exit()\n",
    "    \n",
    "    return exit_system()"
   ]
  },
  {
   "cell_type": "code",
   "execution_count": null,
   "metadata": {},
   "outputs": [],
   "source": [
    "def library_mangement_system():\n",
    "    while True:\n",
    "        print(\"1 . Add a book\")\n",
    "        print(\"2 . search book\")\n",
    "        print(\"3 .display book\")\n",
    "        print(\"4 .exit system\")\n",
    "        \n",
    "        choice =input(\"1-4\")\n",
    "        \n",
    "        if  choice == \"1\":\n",
    "            add_book()\n",
    "        elif choice == \"2\":\n",
    "            search_book()\n",
    "        elif choice == \"3\":\n",
    "            display_books()\n",
    "        elif choice == \"4\":\n",
    "            exit_system()\n",
    "        else :\n",
    "            print(\"invalid choice\")\n",
    "            \n",
    "            \n",
    "library_mangement_system()\n"
   ]
  }
 ],
 "metadata": {
  "kernelspec": {
   "display_name": "Python 3",
   "language": "python",
   "name": "python3"
  },
  "language_info": {
   "codemirror_mode": {
    "name": "ipython",
    "version": 3
   },
   "file_extension": ".py",
   "mimetype": "text/x-python",
   "name": "python",
   "nbconvert_exporter": "python",
   "pygments_lexer": "ipython3",
   "version": "3.12.3"
  }
 },
 "nbformat": 4,
 "nbformat_minor": 2
}
